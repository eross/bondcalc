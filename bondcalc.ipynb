{
 "cells": [
  {
   "cell_type": "code",
   "execution_count": 1,
   "id": "a472e1fa",
   "metadata": {},
   "outputs": [],
   "source": [
    "import pandas as pd\n"
   ]
  },
  {
   "cell_type": "code",
   "execution_count": 4,
   "id": "1eeeddfa",
   "metadata": {},
   "outputs": [],
   "source": [
    "with open('ira.csv', 'r') as fin:\n",
    "    data = fin.read().splitlines(True)\n",
    "\n",
    "data = data[1:]\n",
    "data = data[:-1]\n",
    "with open('ira2.csv', 'w') as fout:\n",
    "    fout.writelines(data)"
   ]
  },
  {
   "cell_type": "code",
   "execution_count": 5,
   "id": "b1db1c62",
   "metadata": {},
   "outputs": [],
   "source": [
    "df = pd.read_csv('ira2.csv')"
   ]
  },
  {
   "cell_type": "code",
   "execution_count": 6,
   "id": "b4c97218",
   "metadata": {},
   "outputs": [],
   "source": [
    "dfira = pd.read_csv('ira2.csv')"
   ]
  },
  {
   "cell_type": "code",
   "execution_count": 7,
   "id": "ea7dd3a8",
   "metadata": {},
   "outputs": [],
   "source": [
    "dfira['Gains']=dfira['Quantity'].replace('[\\$,]', '', regex=True).astype(float)+(dfira['Amount'].replace('[\\$,]', '', regex=True).astype(float))"
   ]
  },
  {
   "cell_type": "code",
   "execution_count": 14,
   "id": "d05ab998",
   "metadata": {},
   "outputs": [],
   "source": [
    "dfira['TDate']=dfira['Description'].str.extract(r'(US TREASURY BILL23U S T BILL DUE )(.*)')[1]"
   ]
  },
  {
   "cell_type": "code",
   "execution_count": 15,
   "id": "c71b4680",
   "metadata": {},
   "outputs": [
    {
     "data": {
      "text/html": [
       "<div>\n",
       "<style scoped>\n",
       "    .dataframe tbody tr th:only-of-type {\n",
       "        vertical-align: middle;\n",
       "    }\n",
       "\n",
       "    .dataframe tbody tr th {\n",
       "        vertical-align: top;\n",
       "    }\n",
       "\n",
       "    .dataframe thead th {\n",
       "        text-align: right;\n",
       "    }\n",
       "</style>\n",
       "<table border=\"1\" class=\"dataframe\">\n",
       "  <thead>\n",
       "    <tr style=\"text-align: right;\">\n",
       "      <th></th>\n",
       "      <th>Date</th>\n",
       "      <th>Action</th>\n",
       "      <th>Symbol</th>\n",
       "      <th>Description</th>\n",
       "      <th>Quantity</th>\n",
       "      <th>Price</th>\n",
       "      <th>Fees &amp; Comm</th>\n",
       "      <th>Amount</th>\n",
       "      <th>Gains</th>\n",
       "      <th>TDate</th>\n",
       "    </tr>\n",
       "  </thead>\n",
       "  <tbody>\n",
       "    <tr>\n",
       "      <th>80</th>\n",
       "      <td>04/28/2023</td>\n",
       "      <td>Buy</td>\n",
       "      <td>912797GF8</td>\n",
       "      <td>US TREASURY BILL23U S T BILL DUE 08/08/23</td>\n",
       "      <td>180,000</td>\n",
       "      <td>$98.6422</td>\n",
       "      <td>NaN</td>\n",
       "      <td>-$177555.94</td>\n",
       "      <td>2444.06</td>\n",
       "      <td>08/08/23</td>\n",
       "    </tr>\n",
       "    <tr>\n",
       "      <th>211</th>\n",
       "      <td>02/23/2023</td>\n",
       "      <td>Buy</td>\n",
       "      <td>912796ZF9</td>\n",
       "      <td>US TREASURY BILL23U S T BILL DUE 05/25/23</td>\n",
       "      <td>24,000</td>\n",
       "      <td>$98.8268</td>\n",
       "      <td>NaN</td>\n",
       "      <td>-$23718.42</td>\n",
       "      <td>281.58</td>\n",
       "      <td>05/25/23</td>\n",
       "    </tr>\n",
       "    <tr>\n",
       "      <th>223</th>\n",
       "      <td>02/08/2023</td>\n",
       "      <td>Buy</td>\n",
       "      <td>912796XY0</td>\n",
       "      <td>US TREASURY BILL23U S T BILL DUE 08/10/23</td>\n",
       "      <td>218,000</td>\n",
       "      <td>$97.6085</td>\n",
       "      <td>NaN</td>\n",
       "      <td>-$212786.46</td>\n",
       "      <td>5213.54</td>\n",
       "      <td>08/10/23</td>\n",
       "    </tr>\n",
       "    <tr>\n",
       "      <th>248</th>\n",
       "      <td>11/10/2022</td>\n",
       "      <td>Buy</td>\n",
       "      <td>912796XZ7</td>\n",
       "      <td>US TREASURY BILL23U S T BILL DUE 02/09/23</td>\n",
       "      <td>5,000</td>\n",
       "      <td>$99.0162</td>\n",
       "      <td>NaN</td>\n",
       "      <td>-$4950.81</td>\n",
       "      <td>49.19</td>\n",
       "      <td>02/09/23</td>\n",
       "    </tr>\n",
       "    <tr>\n",
       "      <th>251</th>\n",
       "      <td>11/10/2022</td>\n",
       "      <td>Buy</td>\n",
       "      <td>912796ZE2</td>\n",
       "      <td>US TREASURY BILL23U S T BILL DUE 05/11/23</td>\n",
       "      <td>24,000</td>\n",
       "      <td>$97.8407</td>\n",
       "      <td>NaN</td>\n",
       "      <td>-$23481.78</td>\n",
       "      <td>518.22</td>\n",
       "      <td>05/11/23</td>\n",
       "    </tr>\n",
       "    <tr>\n",
       "      <th>252</th>\n",
       "      <td>11/10/2022</td>\n",
       "      <td>Buy</td>\n",
       "      <td>912796Y60</td>\n",
       "      <td>US TREASURY BILL23U S T BILL DUE 02/21/23</td>\n",
       "      <td>24,000</td>\n",
       "      <td>$98.8847</td>\n",
       "      <td>NaN</td>\n",
       "      <td>-$23732.33</td>\n",
       "      <td>267.67</td>\n",
       "      <td>02/21/23</td>\n",
       "    </tr>\n",
       "    <tr>\n",
       "      <th>270</th>\n",
       "      <td>10/26/2022</td>\n",
       "      <td>Buy</td>\n",
       "      <td>912796YV5</td>\n",
       "      <td>US TREASURY BILL23U S T BILL DUE 04/27/23</td>\n",
       "      <td>178,000</td>\n",
       "      <td>$97.8273</td>\n",
       "      <td>NaN</td>\n",
       "      <td>-$174132.73</td>\n",
       "      <td>3867.27</td>\n",
       "      <td>04/27/23</td>\n",
       "    </tr>\n",
       "  </tbody>\n",
       "</table>\n",
       "</div>"
      ],
      "text/plain": [
       "           Date Action     Symbol                                Description   \n",
       "80   04/28/2023    Buy  912797GF8  US TREASURY BILL23U S T BILL DUE 08/08/23  \\\n",
       "211  02/23/2023    Buy  912796ZF9  US TREASURY BILL23U S T BILL DUE 05/25/23   \n",
       "223  02/08/2023    Buy  912796XY0  US TREASURY BILL23U S T BILL DUE 08/10/23   \n",
       "248  11/10/2022    Buy  912796XZ7  US TREASURY BILL23U S T BILL DUE 02/09/23   \n",
       "251  11/10/2022    Buy  912796ZE2  US TREASURY BILL23U S T BILL DUE 05/11/23   \n",
       "252  11/10/2022    Buy  912796Y60  US TREASURY BILL23U S T BILL DUE 02/21/23   \n",
       "270  10/26/2022    Buy  912796YV5  US TREASURY BILL23U S T BILL DUE 04/27/23   \n",
       "\n",
       "    Quantity     Price Fees & Comm       Amount    Gains     TDate  \n",
       "80   180,000  $98.6422         NaN  -$177555.94  2444.06  08/08/23  \n",
       "211   24,000  $98.8268         NaN   -$23718.42   281.58  05/25/23  \n",
       "223  218,000  $97.6085         NaN  -$212786.46  5213.54  08/10/23  \n",
       "248    5,000  $99.0162         NaN    -$4950.81    49.19  02/09/23  \n",
       "251   24,000  $97.8407         NaN   -$23481.78   518.22  05/11/23  \n",
       "252   24,000  $98.8847         NaN   -$23732.33   267.67  02/21/23  \n",
       "270  178,000  $97.8273         NaN  -$174132.73  3867.27  04/27/23  "
      ]
     },
     "execution_count": 15,
     "metadata": {},
     "output_type": "execute_result"
    }
   ],
   "source": [
    "# ira account gains\n",
    "dfbuyira=dfira.query('Description.str.contains(\"US TREASURY\") and Action==\"Buy\" and not TDate.isnull()')\n",
    "dfbuyira"
   ]
  },
  {
   "cell_type": "code",
   "execution_count": 16,
   "id": "ae40bf64",
   "metadata": {},
   "outputs": [
    {
     "data": {
      "text/plain": [
       "12641.529999999995"
      ]
     },
     "execution_count": 16,
     "metadata": {},
     "output_type": "execute_result"
    }
   ],
   "source": [
    "# ira total gains\n",
    "dfbuyira['Gains'].sum()"
   ]
  }
 ],
 "metadata": {
  "kernelspec": {
   "display_name": "Python 3 (ipykernel)",
   "language": "python",
   "name": "python3"
  },
  "language_info": {
   "codemirror_mode": {
    "name": "ipython",
    "version": 3
   },
   "file_extension": ".py",
   "mimetype": "text/x-python",
   "name": "python",
   "nbconvert_exporter": "python",
   "pygments_lexer": "ipython3",
   "version": "3.8.10"
  }
 },
 "nbformat": 4,
 "nbformat_minor": 5
}
