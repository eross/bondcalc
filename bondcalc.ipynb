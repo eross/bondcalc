{
 "cells": [
  {
   "cell_type": "code",
   "execution_count": 175,
   "id": "a472e1fa",
   "metadata": {},
   "outputs": [],
   "source": [
    "import pandas as pd\n"
   ]
  },
  {
   "cell_type": "code",
   "execution_count": 176,
   "id": "1eeeddfa",
   "metadata": {},
   "outputs": [],
   "source": [
    "with open('ira.csv', 'r') as fin:\n",
    "    data = fin.read().splitlines(True)\n",
    "\n",
    "data = data[1:]\n",
    "data = data[:-1]\n",
    "with open('ira2.csv', 'w') as fout:\n",
    "    fout.writelines(data)"
   ]
  },
  {
   "cell_type": "code",
   "execution_count": 177,
   "id": "b1db1c62",
   "metadata": {},
   "outputs": [],
   "source": [
    "df = pd.read_csv('ira2.csv')"
   ]
  },
  {
   "cell_type": "code",
   "execution_count": 178,
   "id": "b4c97218",
   "metadata": {},
   "outputs": [],
   "source": [
    "dfira = pd.read_csv('ira2.csv')"
   ]
  },
  {
   "cell_type": "code",
   "execution_count": 179,
   "id": "ea7dd3a8",
   "metadata": {},
   "outputs": [],
   "source": [
    "dfira['Gains']=dfira['Quantity'].replace('[\\$,]', '', regex=True).astype(float)+(dfira['Amount'].replace('[\\$,]', '', regex=True).astype(float))"
   ]
  },
  {
   "cell_type": "code",
   "execution_count": 180,
   "id": "d05ab998",
   "metadata": {},
   "outputs": [],
   "source": [
    "dfira['TDate']=dfira['Description'].str.extract(r'(US TREASURY BILL23U S T BILL DUE )(.*)')[1]"
   ]
  },
  {
   "cell_type": "code",
   "execution_count": 181,
   "id": "c71b4680",
   "metadata": {},
   "outputs": [
    {
     "data": {
      "text/html": [
       "<div>\n",
       "<style scoped>\n",
       "    .dataframe tbody tr th:only-of-type {\n",
       "        vertical-align: middle;\n",
       "    }\n",
       "\n",
       "    .dataframe tbody tr th {\n",
       "        vertical-align: top;\n",
       "    }\n",
       "\n",
       "    .dataframe thead th {\n",
       "        text-align: right;\n",
       "    }\n",
       "</style>\n",
       "<table border=\"1\" class=\"dataframe\">\n",
       "  <thead>\n",
       "    <tr style=\"text-align: right;\">\n",
       "      <th></th>\n",
       "      <th>Date</th>\n",
       "      <th>Action</th>\n",
       "      <th>Symbol</th>\n",
       "      <th>Description</th>\n",
       "      <th>Quantity</th>\n",
       "      <th>Price</th>\n",
       "      <th>Fees &amp; Comm</th>\n",
       "      <th>Amount</th>\n",
       "      <th>Gains</th>\n",
       "      <th>TDate</th>\n",
       "    </tr>\n",
       "  </thead>\n",
       "  <tbody>\n",
       "    <tr>\n",
       "      <th>3</th>\n",
       "      <td>05/11/2023</td>\n",
       "      <td>Buy</td>\n",
       "      <td>912796YT0</td>\n",
       "      <td>US TREASURY BILL23U S T BILL DUE 11/02/23</td>\n",
       "      <td>73,000</td>\n",
       "      <td>$97.6474</td>\n",
       "      <td>NaN</td>\n",
       "      <td>-$71282.62</td>\n",
       "      <td>1717.38</td>\n",
       "      <td>11/02/23</td>\n",
       "    </tr>\n",
       "    <tr>\n",
       "      <th>46</th>\n",
       "      <td>11/14/2022</td>\n",
       "      <td>Buy</td>\n",
       "      <td>912796ZE2</td>\n",
       "      <td>US TREASURY BILL23U S T BILL DUE 05/11/23</td>\n",
       "      <td>72,000</td>\n",
       "      <td>$97.8474</td>\n",
       "      <td>NaN</td>\n",
       "      <td>-$70450.19</td>\n",
       "      <td>1549.81</td>\n",
       "      <td>05/11/23</td>\n",
       "    </tr>\n",
       "  </tbody>\n",
       "</table>\n",
       "</div>"
      ],
      "text/plain": [
       "          Date Action     Symbol                                Description   \n",
       "3   05/11/2023    Buy  912796YT0  US TREASURY BILL23U S T BILL DUE 11/02/23  \\\n",
       "46  11/14/2022    Buy  912796ZE2  US TREASURY BILL23U S T BILL DUE 05/11/23   \n",
       "\n",
       "   Quantity     Price  Fees & Comm      Amount    Gains     TDate  \n",
       "3    73,000  $97.6474          NaN  -$71282.62  1717.38  11/02/23  \n",
       "46   72,000  $97.8474          NaN  -$70450.19  1549.81  05/11/23  "
      ]
     },
     "execution_count": 181,
     "metadata": {},
     "output_type": "execute_result"
    }
   ],
   "source": [
    "# ira account gains\n",
    "dfbuyira=dfira.query('Description.str.contains(\"US TREASURY\") and Action==\"Buy\" and not TDate.isnull()')\n",
    "dfbuyira"
   ]
  },
  {
   "cell_type": "code",
   "execution_count": 182,
   "id": "ae40bf64",
   "metadata": {},
   "outputs": [
    {
     "data": {
      "text/plain": [
       "3267.1900000000023"
      ]
     },
     "execution_count": 182,
     "metadata": {},
     "output_type": "execute_result"
    }
   ],
   "source": [
    "# ira total gains\n",
    "dfbuyira['Gains'].sum()"
   ]
  }
 ],
 "metadata": {
  "kernelspec": {
   "display_name": "Python 3 (ipykernel)",
   "language": "python",
   "name": "python3"
  },
  "language_info": {
   "codemirror_mode": {
    "name": "ipython",
    "version": 3
   },
   "file_extension": ".py",
   "mimetype": "text/x-python",
   "name": "python",
   "nbconvert_exporter": "python",
   "pygments_lexer": "ipython3",
   "version": "3.8.10"
  }
 },
 "nbformat": 4,
 "nbformat_minor": 5
}
