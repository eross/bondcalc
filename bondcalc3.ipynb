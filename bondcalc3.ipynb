{
 "cells": [
  {
   "cell_type": "code",
   "execution_count": 1,
   "id": "a472e1fa",
   "metadata": {},
   "outputs": [],
   "source": [
    "import pandas as pd\n",
    "import tempfile\n",
    "from io import StringIO\n",
    "pd.options.mode.chained_assignment = None\n",
    "pd.set_option('display.max_rows', 30)\n",
    "pd.set_option('display.max_columns', None)\n"
   ]
  },
  {
   "cell_type": "code",
   "execution_count": 2,
   "metadata": {},
   "outputs": [],
   "source": [
    "def importdf(filename):\n",
    "    with open(filename, 'r') as fin:\n",
    "        data = fin.read().splitlines(True)\n",
    "\n",
    "        data = data[2:]\n",
    "        data = data[:-2]\n",
    "\n",
    "        tf = tempfile.NamedTemporaryFile(mode='w')\n",
    "        tf.writelines(data)\n",
    "        tf.seek(0)\n",
    "        df = pd.read_csv(tf.name)\n",
    "        tf.close()\n",
    "        return(df)\n",
    "        #df = pd.read_csv"
   ]
  },
  {
   "cell_type": "code",
   "execution_count": 3,
   "metadata": {},
   "outputs": [],
   "source": [
    "df1 = importdf('lindarollover.csv')\n",
    "df2 = importdf('main.csv')\n",
    "df3 = importdf('ericira.csv')\n",
    "df = pd.concat([df1, df2, df3])"
   ]
  },
  {
   "cell_type": "code",
   "execution_count": 4,
   "metadata": {},
   "outputs": [],
   "source": [
    "df=df[df[\"Expiration/Maturity\"]!=\"--\"]"
   ]
  },
  {
   "cell_type": "code",
   "execution_count": 5,
   "metadata": {},
   "outputs": [],
   "source": [
    "from datetime import datetime\n",
    "\n",
    "df.loc[:,(\"maturity\")] = pd.to_datetime(df[\"Expiration/Maturity\"])\n",
    "df.loc[:,(\"Quantity\")] = df[\"Quantity\"].str.replace(',','')\n",
    "df=df[[\"maturity\",\"Quantity\"]]\n"
   ]
  },
  {
   "cell_type": "code",
   "execution_count": 6,
   "metadata": {},
   "outputs": [],
   "source": [
    "#df=df.set_index(['maturity'])\n",
    "#print(df5['maturity'].min())\n",
    "#print(df5['maturity'].max())\n",
    "\n",
    "#print(df5.index)\n",
    "#print(d.index)\n",
    "#d2 = d.asfreq(freq='90D',fill_value=42)\n",
    "#display(d)\n",
    "#display(d2)\n",
    "\n",
    "idx = pd.date_range(df[\"maturity\"].min(),df[\"maturity\"].max(),freq='90D')\n",
    "df = df.set_index([\"maturity\"])\n",
    "\n",
    "#display(idx)\n",
    "#df = df.reindex(idx)\n",
    "#df = df.asfreq('d',fill_value=0)\n",
    "#display(d3)\n",
    "#df6['id'] = range(1,1+len(df6))\n",
    "#df6.insert(0,'id',range(1,1 + len(df6)))\n",
    "#df6=df6.set_index('id')\n",
    "##display(df6)\n",
    "#df.reset_index(inplace=True)\n",
    "#df.set_index('maturity', drop=False)"
   ]
  },
  {
   "cell_type": "code",
   "execution_count": 7,
   "metadata": {},
   "outputs": [
    {
     "data": {
      "text/html": [
       "<div>\n",
       "<style scoped>\n",
       "    .dataframe tbody tr th:only-of-type {\n",
       "        vertical-align: middle;\n",
       "    }\n",
       "\n",
       "    .dataframe tbody tr th {\n",
       "        vertical-align: top;\n",
       "    }\n",
       "\n",
       "    .dataframe thead th {\n",
       "        text-align: right;\n",
       "    }\n",
       "</style>\n",
       "<table border=\"1\" class=\"dataframe\">\n",
       "  <thead>\n",
       "    <tr style=\"text-align: right;\">\n",
       "      <th></th>\n",
       "      <th>Quantityi</th>\n",
       "    </tr>\n",
       "    <tr>\n",
       "      <th>maturityq</th>\n",
       "      <th></th>\n",
       "    </tr>\n",
       "  </thead>\n",
       "  <tbody>\n",
       "    <tr>\n",
       "      <th>2023Q4</th>\n",
       "      <td>80000</td>\n",
       "    </tr>\n",
       "    <tr>\n",
       "      <th>2024Q1</th>\n",
       "      <td>651000</td>\n",
       "    </tr>\n",
       "    <tr>\n",
       "      <th>2024Q2</th>\n",
       "      <td>426000</td>\n",
       "    </tr>\n",
       "    <tr>\n",
       "      <th>2024Q3</th>\n",
       "      <td>641000</td>\n",
       "    </tr>\n",
       "    <tr>\n",
       "      <th>2024Q4</th>\n",
       "      <td>186000</td>\n",
       "    </tr>\n",
       "    <tr>\n",
       "      <th>2025Q1</th>\n",
       "      <td>695000</td>\n",
       "    </tr>\n",
       "    <tr>\n",
       "      <th>2025Q2</th>\n",
       "      <td>141000</td>\n",
       "    </tr>\n",
       "    <tr>\n",
       "      <th>2025Q3</th>\n",
       "      <td>346000</td>\n",
       "    </tr>\n",
       "    <tr>\n",
       "      <th>2025Q4</th>\n",
       "      <td>24000</td>\n",
       "    </tr>\n",
       "    <tr>\n",
       "      <th>2026Q1</th>\n",
       "      <td>158000</td>\n",
       "    </tr>\n",
       "    <tr>\n",
       "      <th>2026Q2</th>\n",
       "      <td>24000</td>\n",
       "    </tr>\n",
       "    <tr>\n",
       "      <th>2026Q3</th>\n",
       "      <td>104000</td>\n",
       "    </tr>\n",
       "    <tr>\n",
       "      <th>2026Q4</th>\n",
       "      <td>24000</td>\n",
       "    </tr>\n",
       "    <tr>\n",
       "      <th>2027Q1</th>\n",
       "      <td>85000</td>\n",
       "    </tr>\n",
       "    <tr>\n",
       "      <th>2027Q3</th>\n",
       "      <td>35000</td>\n",
       "    </tr>\n",
       "    <tr>\n",
       "      <th>2027Q4</th>\n",
       "      <td>33000</td>\n",
       "    </tr>\n",
       "    <tr>\n",
       "      <th>2028Q1</th>\n",
       "      <td>50000</td>\n",
       "    </tr>\n",
       "    <tr>\n",
       "      <th>2029Q1</th>\n",
       "      <td>5000</td>\n",
       "    </tr>\n",
       "    <tr>\n",
       "      <th>2033Q1</th>\n",
       "      <td>4000</td>\n",
       "    </tr>\n",
       "    <tr>\n",
       "      <th>2041Q1</th>\n",
       "      <td>3000</td>\n",
       "    </tr>\n",
       "  </tbody>\n",
       "</table>\n",
       "</div>"
      ],
      "text/plain": [
       "           Quantityi\n",
       "maturityq           \n",
       "2023Q4         80000\n",
       "2024Q1        651000\n",
       "2024Q2        426000\n",
       "2024Q3        641000\n",
       "2024Q4        186000\n",
       "2025Q1        695000\n",
       "2025Q2        141000\n",
       "2025Q3        346000\n",
       "2025Q4         24000\n",
       "2026Q1        158000\n",
       "2026Q2         24000\n",
       "2026Q3        104000\n",
       "2026Q4         24000\n",
       "2027Q1         85000\n",
       "2027Q3         35000\n",
       "2027Q4         33000\n",
       "2028Q1         50000\n",
       "2029Q1          5000\n",
       "2033Q1          4000\n",
       "2041Q1          3000"
      ]
     },
     "metadata": {},
     "output_type": "display_data"
    }
   ],
   "source": [
    "df.loc[:,(\"maturityq\")] = pd.PeriodIndex(df.index, freq='Q')\n",
    "df=df.sort_values(by=[\"maturity\"],ascending=True)\n",
    "##display(df)\n",
    "df.loc[:,(\"Quantityi\")] = df[\"Quantity\"].astype(int)\n",
    "df = df[[\"maturityq\",\"Quantityi\"]]\n",
    "df\n",
    "results = df.groupby(by=['maturityq']).sum()\n",
    "display(results)"
   ]
  },
  {
   "cell_type": "code",
   "execution_count": 8,
   "metadata": {},
   "outputs": [
    {
     "data": {
      "text/plain": [
       "maturity\n",
       "2023-11-21     6000\n",
       "2023-11-30    24000\n",
       "2023-12-28    33000\n",
       "2023-12-31    17000\n",
       "2024-01-11    26000\n",
       "              ...  \n",
       "2027-11-22    22000\n",
       "2028-03-31    50000\n",
       "2029-01-23     5000\n",
       "2033-03-15     4000\n",
       "2041-03-01     3000\n",
       "Name: Quantityi, Length: 73, dtype: int64"
      ]
     },
     "metadata": {},
     "output_type": "display_data"
    }
   ],
   "source": [
    "type(df[\"Quantityi\"])\n",
    "display(df[\"Quantityi\"])"
   ]
  },
  {
   "cell_type": "code",
   "execution_count": 9,
   "metadata": {},
   "outputs": [
    {
     "data": {
      "text/plain": [
       "pandas.core.series.Series"
      ]
     },
     "metadata": {},
     "output_type": "display_data"
    },
    {
     "data": {
      "text/plain": [
       "2000-01-01    0.469112\n",
       "2000-01-02   -0.282863\n",
       "2000-01-03   -1.509059\n",
       "2000-01-04   -1.135632\n",
       "2000-01-05    1.212112\n",
       "                ...   \n",
       "2002-09-22   -1.512743\n",
       "2002-09-23    0.933753\n",
       "2002-09-24   -0.308013\n",
       "2002-09-25   -0.079915\n",
       "2002-09-26   -1.010589\n",
       "Freq: D, Length: 1000, dtype: float64"
      ]
     },
     "metadata": {},
     "output_type": "display_data"
    },
    {
     "data": {
      "image/png": "[encoded data removed]",
      "text/plain": [
       "<Figure size 640x480 with 1 Axes>"
      ]
     },
     "metadata": {},
     "output_type": "display_data"
    }
   ],
   "source": [
    "import matplotlib.pyplot as plt\n",
    "import numpy as np\n",
    "plt.close(\"all\")\n",
    "np.random.seed(123456)\n",
    "\n",
    "ts = pd.Series(np.random.randn(1000), index=pd.date_range(\"1/1/2000\", periods=1000))\n",
    "display(type(ts))\n",
    "display(ts)\n",
    "\n",
    "ts = ts.cumsum()\n",
    "\n",
    "ts.plot();"
   ]
  },
  {
   "cell_type": "code",
   "execution_count": 26,
   "metadata": {},
   "outputs": [
    {
     "name": "stdout",
     "output_type": "stream",
     "text": [
      "DONE\n"
     ]
    },
    {
     "data": {
      "image/png": "[encoded data removed]",
      "text/plain": [
       "<Figure size 2500x1000 with 1 Axes>"
      ]
     },
     "metadata": {},
     "output_type": "display_data"
    }
   ],
   "source": [
    "import matplotlib.pyplot as plt\n",
    "import numpy as np\n",
    "\n",
    "def line_format(label):\n",
    "    \"\"\"\n",
    "    Convert time label to the format of pandas line plot\n",
    "    \"\"\"\n",
    "    #month = label.month_name()[:3]\n",
    "    #if month == 'Jan':\n",
    "    #    month += f'\\n{label.year}'\n",
    "    #return month\n",
    "    return(label.month_name()[:3] + f'\\n{str(label.year)[2:4]}')\n",
    "\n",
    "plt.close(\"all\")\n",
    "ts = df[\"Quantityi\"]\n",
    "ax = ts.plot(kind='bar',figsize=(25,10),rot=0);\n",
    "ax.set_xticklabels(map(line_format, ts.index))\n",
    "print(\"DONE\")"
   ]
  },
  {
   "cell_type": "code",
   "execution_count": 53,
   "metadata": {},
   "outputs": [
    {
     "data": {
      "text/plain": [
       "Index([11, 11, 12, 12,  1,  1,  1,  2,  2,  2,  2,  3,  3,  3,  4,  4,  5,  5,\n",
       "        6,  6,  6,  7,  7,  7,  8,  8,  8,  9, 12, 12, 12, 12, 12,  1,  1,  1,\n",
       "        1,  2,  2,  2,  3,  3,  5,  6,  6,  7,  7,  8,  8,  8,  8,  8,  9, 12,\n",
       "        2,  2,  2,  2,  3,  6,  8,  8,  8, 12,  2,  3,  8, 11, 11,  3,  1,  3,\n",
       "        3],\n",
       "      dtype='int32', name='maturity')"
      ]
     },
     "execution_count": 53,
     "metadata": {},
     "output_type": "execute_result"
    }
   ],
   "source": [
    "df.index.month"
   ]
  }
 ],
 "metadata": {
  "kernelspec": {
   "display_name": "Python 3 (ipykernel)",
   "language": "python",
   "name": "python3"
  },
  "language_info": {
   "codemirror_mode": {
    "name": "ipython",
    "version": 3
   },
   "file_extension": ".py",
   "mimetype": "text/x-python",
   "name": "python",
   "nbconvert_exporter": "python",
   "pygments_lexer": "ipython3",
   "version": "3.10.12"
  }
 },
 "nbformat": 4,
 "nbformat_minor": 5
}
